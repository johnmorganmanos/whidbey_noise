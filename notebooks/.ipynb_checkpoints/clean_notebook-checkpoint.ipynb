{
 "cells": [
  {
   "cell_type": "code",
   "execution_count": 1,
   "id": "4f0da534",
   "metadata": {},
   "outputs": [],
   "source": [
    "import h5py\n",
    "import matplotlib.pyplot as plt\n",
    "%matplotlib notebook\n",
    "from scipy.signal import butter, filtfilt,detrend\n",
    "import numpy as np\n",
    "from numpy.polynomial import legendre as leg\n",
    "from numpy.linalg import lstsq\n",
    "import datetime\n",
    "from datetime import timedelta\n",
    "import pandas as pd\n",
    "import geopy.distance\n",
    "from shapely.geometry import LineString\n",
    "import obspy\n",
    "from obspy import UTCDateTime\n",
    "from obspy.core import Trace\n",
    "from obspy.clients.fdsn import Client\n",
    "from libcomcat.search import search\n",
    "from libcomcat.dataframes import get_summary_data_frame\n",
    "from obspy.signal.trigger import classic_sta_lta,recursive_sta_lta\n",
    "from obspy.signal.trigger import plot_trigger\n",
    "import scipy\n",
    "from scipy.fft import fft, ifft"
   ]
  },
  {
   "cell_type": "code",
   "execution_count": null,
   "id": "6678c8f6",
   "metadata": {
    "scrolled": true
   },
   "outputs": [],
   "source": [
    "# # Get a list of events from USGS and load events (specify search radius)\n",
    "events = search(starttime = datetime.datetime(2022, 3, 17, 0, 0), \n",
    "                endtime   = datetime.datetime(2023, 1, 17, 0, 0),\n",
    "                maxradiuskm=100, \n",
    "                latitude=47.60, \n",
    "                longitude=-122.33)\n",
    "\n",
    "\n",
    "\n",
    "#Get list of USGS events\n",
    "event_df = get_summary_data_frame(events)\n",
    "event_df = event_df.sort_values(by=['magnitude'],ascending=False)\n",
    "\n",
    "#Create a list with the event id numbers for data download\n",
    "event_df = event_df[(event_df['depth'] > 2.0) & (event_df['magnitude'] > 2.0)]\n",
    "#culled = len(events)-len(event_df)\n",
    "earthquake_list = event_df['id'].values.tolist()\n",
    "#print(\"Found %s events\" % len(events),\"and culled %s\"%culled, \"events due to depth and Mw constraints\")\n",
    "event_df"
   ]
  },
  {
   "cell_type": "code",
   "execution_count": null,
   "id": "a40a5932",
   "metadata": {},
   "outputs": [],
   "source": []
  },
  {
   "cell_type": "code",
   "execution_count": null,
   "id": "f06fca4d",
   "metadata": {},
   "outputs": [],
   "source": []
  },
  {
   "cell_type": "code",
   "execution_count": null,
   "id": "3fa0b5be",
   "metadata": {},
   "outputs": [],
   "source": []
  },
  {
   "cell_type": "code",
   "execution_count": null,
   "id": "893525d7",
   "metadata": {},
   "outputs": [],
   "source": [
    "from dasquakes import *\n",
    "\n",
    "data, times, attrs, x_max, this_id, data_filt, t0 = das_downloader(event_df,'uw61862587',cab='whidbey')\n",
    "\n",
    "fiber_location, fiber_calibration, flat_x, flat_y = fiber_channel_locator(data, attrs,'fiberroute_whidbey.csv','calibration_whidbey.csv', save_file = False)"
   ]
  },
  {
   "cell_type": "code",
   "execution_count": null,
   "id": "de68adf7",
   "metadata": {},
   "outputs": [],
   "source": []
  },
  {
   "cell_type": "code",
   "execution_count": null,
   "id": "dc99f236",
   "metadata": {},
   "outputs": [],
   "source": []
  }
 ],
 "metadata": {
  "kernelspec": {
   "display_name": "libcomcat",
   "language": "python",
   "name": "libcomcat"
  },
  "language_info": {
   "codemirror_mode": {
    "name": "ipython",
    "version": 3
   },
   "file_extension": ".py",
   "mimetype": "text/x-python",
   "name": "python",
   "nbconvert_exporter": "python",
   "pygments_lexer": "ipython3",
   "version": "3.7.12"
  }
 },
 "nbformat": 4,
 "nbformat_minor": 5
}
