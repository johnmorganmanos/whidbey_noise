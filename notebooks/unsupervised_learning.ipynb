{
 "cells": [
  {
   "cell_type": "markdown",
   "id": "5e56cae6",
   "metadata": {},
   "source": [
    "# Feature extraction"
   ]
  },
  {
   "cell_type": "markdown",
   "id": "2b1cdd38",
   "metadata": {},
   "source": [
    "## -1.0 Import the packages"
   ]
  },
  {
   "cell_type": "code",
   "execution_count": null,
   "id": "4241c3fc",
   "metadata": {},
   "outputs": [],
   "source": [
    "# on Docker/local\n",
    "import sys\n",
    "sys.path.append(\"../src\")\n",
    "sys.path.append(\"../DASstore\") \n",
    "sys.path.append(\"/home/jmanos/notebooks/whidbey_noise\")\n",
    "\n",
    "import os\n",
    "import time\n",
    "from datetime import datetime, timedelta\n",
    "\n",
    "import h5py\n",
    "import numpy as np\n",
    "import DAS_module\n",
    "import matplotlib.pyplot as plt\n",
    "from tqdm import tqdm\n",
    "import dasquakes\n",
    "from dasquakes import das_downloader\n",
    "\n",
    "import importlib\n",
    "importlib.reload(dasquakes)\n",
    "\n",
    "import scipy\n",
    "import scipy.signal\n",
    "import seis_feature"
   ]
  },
  {
   "cell_type": "markdown",
   "id": "592f5ef7",
   "metadata": {},
   "source": [
    "## 0. Get the data"
   ]
  },
  {
   "cell_type": "code",
   "execution_count": null,
   "id": "e344dd92",
   "metadata": {},
   "outputs": [],
   "source": [
    "cab = 'whidbey'\n",
    "this_id = None\n",
    "event_df = None\n",
    "t0 = datetime(2023, 1, 18, 11, 0, 0)\n",
    "record_length = 120\n",
    "\n",
    "\n",
    "data, times, attrs, x_max, this_id, data_filt, t0 = das_downloader(event_df, this_id, cab, t0 = t0, record_length = record_length)\n",
    "\n",
    "# start and end channel index for the sub-array\n",
    "# cha1, cha2 = 0, attrs[ 'NumberOfLoci'] #all channels\n",
    "cha1, cha2 = 1100, 1600 #some channels\n",
    "cha_spacing = attrs['SpatialSamplingInterval']"
   ]
  },
  {
   "cell_type": "code",
   "execution_count": null,
   "id": "6b8075be",
   "metadata": {},
   "outputs": [],
   "source": [
    "# Plot the data\n",
    "plt.figure(figsize = (10, 5), dpi = 100)\n",
    "plt.imshow(data_filt[:,cha1:cha2].T, aspect = 'auto', \n",
    "           cmap = 'RdBu', vmax = 1.5e1, vmin = -1.5e1, origin='lower')\n",
    "_ =plt.yticks(np.linspace(cha1, cha2, 4) - cha1, \n",
    "              [int(i) for i in np.linspace(cha1, cha2, 4)], fontsize = 12)\n",
    "plt.ylabel(\"Channel number\", fontsize = 15)\n",
    "plt.xlabel(\"Time\", fontsize = 15)\n",
    "twiny = plt.gca().twinx()\n",
    "twiny.set_yticks(np.linspace(0, cha2 - cha1, 4), \n",
    "                             [int(i* cha_spacing) for i in np.linspace(cha1, cha2, 4)])\n",
    "twiny.set_ylabel(\"Distance along cable (m)\", fontsize = 15)\n",
    "plt.colorbar(pad = 0.1)"
   ]
  },
  {
   "cell_type": "markdown",
   "id": "7ac391c3",
   "metadata": {},
   "source": [
    "# 1.0 Pre-process the data"
   ]
  },
  {
   "cell_type": "code",
   "execution_count": null,
   "id": "2b86e541",
   "metadata": {},
   "outputs": [],
   "source": [
    "# detrend\n",
    "\n",
    "detrended = scipy.signal.detrend(data[:,cha1:cha2].T, axis=1)\n",
    "\n",
    "# fig,ax = plt.subplots()\n",
    "# ax.imshow(detrended, aspect='auto', vmin=-1, vmax =1)"
   ]
  },
  {
   "cell_type": "code",
   "execution_count": null,
   "id": "1b5a7d6b",
   "metadata": {},
   "outputs": [],
   "source": [
    "# taper\n",
    "\n",
    "window = scipy.signal.tukey(detrended.shape[-1], alpha=0.7)\n",
    "taper = detrended * window\n",
    "\n",
    "# fig,ax = plt.subplots()\n",
    "# ax.imshow(taper, aspect='auto', vmin=-1, vmax =1)"
   ]
  },
  {
   "cell_type": "code",
   "execution_count": null,
   "id": "f98f77ea",
   "metadata": {},
   "outputs": [],
   "source": [
    "# Filtering\n",
    "freqs = [[.001, .01],[.01, .1],[.1, 2]]\n",
    "datas = []\n",
    "for i in freqs:\n",
    "    low_cut = i[0]\n",
    "    hi_cut = i[1]\n",
    "    \n",
    "\n",
    "    b,a = scipy.signal.butter(2,[low_cut,hi_cut],'bp',fs=attrs['MaximumFrequency']*2,output='ba')\n",
    "    data_filt = scipy.signal.filtfilt(b,a,taper,axis=1)\n",
    "    datas.append(data_filt)"
   ]
  },
  {
   "cell_type": "code",
   "execution_count": null,
   "id": "15aed772",
   "metadata": {},
   "outputs": [],
   "source": [
    "# sliced=datas[1]\n",
    "# fig,ax = plt.subplots()\n",
    "# ax.imshow(sliced, aspect='auto', vmin=-np.percentile(sliced,99), vmax =np.percentile(sliced,99))"
   ]
  },
  {
   "cell_type": "markdown",
   "id": "780e2db6",
   "metadata": {},
   "source": [
    "# 2.0 RSAM"
   ]
  },
  {
   "cell_type": "markdown",
   "id": "f91bdc1c",
   "metadata": {},
   "source": [
    "## 2.1 Parameters to use"
   ]
  },
  {
   "cell_type": "code",
   "execution_count": null,
   "id": "6c1eedc1",
   "metadata": {},
   "outputs": [],
   "source": [
    "fs=attrs['PulseRate']\n",
    "wlen = int(6 * 60 * fs)\n",
    "nmax = int(wlen*np.floor(data.shape[0]/wlen))"
   ]
  },
  {
   "cell_type": "markdown",
   "id": "749895b5",
   "metadata": {},
   "source": [
    "## 2.2 RSAM processing"
   ]
  },
  {
   "cell_type": "code",
   "execution_count": null,
   "id": "cd54a2fb",
   "metadata": {},
   "outputs": [],
   "source": [
    "empty_list = []\n",
    "for i in range(datas[0].shape[0]):\n",
    "    datas_rsam = seis_feature.RSAM(datas[0][i], fs, empty_list, freqs[0], nmax, wlen) # get RSAM for different frequency bands"
   ]
  },
  {
   "cell_type": "code",
   "execution_count": null,
   "id": "19023b45",
   "metadata": {},
   "outputs": [],
   "source": [
    "# Plot the RSAM results\n",
    "fig,ax = plt.subplots()\n",
    "#ax.plot(np.asarray(empty_list).T)\n",
    "ax.imshow(np.asarray(empty_list), aspect='auto')\n",
    "plt.show()"
   ]
  },
  {
   "cell_type": "code",
   "execution_count": null,
   "id": "81b8bded",
   "metadata": {},
   "outputs": [],
   "source": []
  },
  {
   "cell_type": "markdown",
   "id": "59abcd05",
   "metadata": {},
   "source": [
    "## 3.0 Clustering"
   ]
  },
  {
   "cell_type": "code",
   "execution_count": 10,
   "id": "e21e7b91",
   "metadata": {},
   "outputs": [
    {
     "ename": "ContextualVersionConflict",
     "evalue": "(numpy 1.21.0 (/home/jmanos/miniconda3/envs/comcat/lib/python3.7/site-packages), Requirement.parse('numpy>=1.21.6'), {'scatseisnet'})",
     "output_type": "error",
     "traceback": [
      "\u001b[0;31m---------------------------------------------------------------------------\u001b[0m",
      "\u001b[0;31mContextualVersionConflict\u001b[0m                 Traceback (most recent call last)",
      "\u001b[0;32m/tmp/ipykernel_3125178/718379832.py\u001b[0m in \u001b[0;36m<module>\u001b[0;34m\u001b[0m\n\u001b[1;32m     11\u001b[0m \u001b[0;32mfrom\u001b[0m \u001b[0msklearn\u001b[0m\u001b[0;34m.\u001b[0m\u001b[0mdecomposition\u001b[0m \u001b[0;32mimport\u001b[0m \u001b[0mFastICA\u001b[0m\u001b[0;34m\u001b[0m\u001b[0;34m\u001b[0m\u001b[0m\n\u001b[1;32m     12\u001b[0m \u001b[0;34m\u001b[0m\u001b[0m\n\u001b[0;32m---> 13\u001b[0;31m \u001b[0;32mfrom\u001b[0m \u001b[0mscatseisnet\u001b[0m \u001b[0;32mimport\u001b[0m \u001b[0mScatteringNetwork\u001b[0m\u001b[0;34m\u001b[0m\u001b[0;34m\u001b[0m\u001b[0m\n\u001b[0m\u001b[1;32m     14\u001b[0m \u001b[0mget_ipython\u001b[0m\u001b[0;34m(\u001b[0m\u001b[0;34m)\u001b[0m\u001b[0;34m.\u001b[0m\u001b[0mrun_line_magic\u001b[0m\u001b[0;34m(\u001b[0m\u001b[0;34m'config'\u001b[0m\u001b[0;34m,\u001b[0m \u001b[0;34m'InlineBackend.figure_format = \"svg\"'\u001b[0m\u001b[0;34m)\u001b[0m\u001b[0;34m\u001b[0m\u001b[0;34m\u001b[0m\u001b[0m\n",
      "\u001b[0;32m~/miniconda3/envs/comcat/lib/python3.7/site-packages/scatseisnet/__init__.py\u001b[0m in \u001b[0;36m<module>\u001b[0;34m\u001b[0m\n\u001b[1;32m     39\u001b[0m \u001b[0;32mfrom\u001b[0m \u001b[0mpkg_resources\u001b[0m \u001b[0;32mimport\u001b[0m \u001b[0mget_distribution\u001b[0m\u001b[0;34m\u001b[0m\u001b[0;34m\u001b[0m\u001b[0m\n\u001b[1;32m     40\u001b[0m \u001b[0;34m\u001b[0m\u001b[0m\n\u001b[0;32m---> 41\u001b[0;31m \u001b[0m__version__\u001b[0m \u001b[0;34m=\u001b[0m \u001b[0mget_distribution\u001b[0m\u001b[0;34m(\u001b[0m\u001b[0;34m\"scatseisnet\"\u001b[0m\u001b[0;34m)\u001b[0m\u001b[0;34m.\u001b[0m\u001b[0mversion\u001b[0m\u001b[0;34m\u001b[0m\u001b[0;34m\u001b[0m\u001b[0m\n\u001b[0m",
      "\u001b[0;32m~/miniconda3/envs/comcat/lib/python3.7/site-packages/pkg_resources/__init__.py\u001b[0m in \u001b[0;36mget_distribution\u001b[0;34m(dist)\u001b[0m\n\u001b[1;32m    476\u001b[0m         \u001b[0mdist\u001b[0m \u001b[0;34m=\u001b[0m \u001b[0mRequirement\u001b[0m\u001b[0;34m.\u001b[0m\u001b[0mparse\u001b[0m\u001b[0;34m(\u001b[0m\u001b[0mdist\u001b[0m\u001b[0;34m)\u001b[0m\u001b[0;34m\u001b[0m\u001b[0;34m\u001b[0m\u001b[0m\n\u001b[1;32m    477\u001b[0m     \u001b[0;32mif\u001b[0m \u001b[0misinstance\u001b[0m\u001b[0;34m(\u001b[0m\u001b[0mdist\u001b[0m\u001b[0;34m,\u001b[0m \u001b[0mRequirement\u001b[0m\u001b[0;34m)\u001b[0m\u001b[0;34m:\u001b[0m\u001b[0;34m\u001b[0m\u001b[0;34m\u001b[0m\u001b[0m\n\u001b[0;32m--> 478\u001b[0;31m         \u001b[0mdist\u001b[0m \u001b[0;34m=\u001b[0m \u001b[0mget_provider\u001b[0m\u001b[0;34m(\u001b[0m\u001b[0mdist\u001b[0m\u001b[0;34m)\u001b[0m\u001b[0;34m\u001b[0m\u001b[0;34m\u001b[0m\u001b[0m\n\u001b[0m\u001b[1;32m    479\u001b[0m     \u001b[0;32mif\u001b[0m \u001b[0;32mnot\u001b[0m \u001b[0misinstance\u001b[0m\u001b[0;34m(\u001b[0m\u001b[0mdist\u001b[0m\u001b[0;34m,\u001b[0m \u001b[0mDistribution\u001b[0m\u001b[0;34m)\u001b[0m\u001b[0;34m:\u001b[0m\u001b[0;34m\u001b[0m\u001b[0;34m\u001b[0m\u001b[0m\n\u001b[1;32m    480\u001b[0m         \u001b[0;32mraise\u001b[0m \u001b[0mTypeError\u001b[0m\u001b[0;34m(\u001b[0m\u001b[0;34m\"Expected string, Requirement, or Distribution\"\u001b[0m\u001b[0;34m,\u001b[0m \u001b[0mdist\u001b[0m\u001b[0;34m)\u001b[0m\u001b[0;34m\u001b[0m\u001b[0;34m\u001b[0m\u001b[0m\n",
      "\u001b[0;32m~/miniconda3/envs/comcat/lib/python3.7/site-packages/pkg_resources/__init__.py\u001b[0m in \u001b[0;36mget_provider\u001b[0;34m(moduleOrReq)\u001b[0m\n\u001b[1;32m    352\u001b[0m     \u001b[0;34m\"\"\"Return an IResourceProvider for the named module or requirement\"\"\"\u001b[0m\u001b[0;34m\u001b[0m\u001b[0;34m\u001b[0m\u001b[0m\n\u001b[1;32m    353\u001b[0m     \u001b[0;32mif\u001b[0m \u001b[0misinstance\u001b[0m\u001b[0;34m(\u001b[0m\u001b[0mmoduleOrReq\u001b[0m\u001b[0;34m,\u001b[0m \u001b[0mRequirement\u001b[0m\u001b[0;34m)\u001b[0m\u001b[0;34m:\u001b[0m\u001b[0;34m\u001b[0m\u001b[0;34m\u001b[0m\u001b[0m\n\u001b[0;32m--> 354\u001b[0;31m         \u001b[0;32mreturn\u001b[0m \u001b[0mworking_set\u001b[0m\u001b[0;34m.\u001b[0m\u001b[0mfind\u001b[0m\u001b[0;34m(\u001b[0m\u001b[0mmoduleOrReq\u001b[0m\u001b[0;34m)\u001b[0m \u001b[0;32mor\u001b[0m \u001b[0mrequire\u001b[0m\u001b[0;34m(\u001b[0m\u001b[0mstr\u001b[0m\u001b[0;34m(\u001b[0m\u001b[0mmoduleOrReq\u001b[0m\u001b[0;34m)\u001b[0m\u001b[0;34m)\u001b[0m\u001b[0;34m[\u001b[0m\u001b[0;36m0\u001b[0m\u001b[0;34m]\u001b[0m\u001b[0;34m\u001b[0m\u001b[0;34m\u001b[0m\u001b[0m\n\u001b[0m\u001b[1;32m    355\u001b[0m     \u001b[0;32mtry\u001b[0m\u001b[0;34m:\u001b[0m\u001b[0;34m\u001b[0m\u001b[0;34m\u001b[0m\u001b[0m\n\u001b[1;32m    356\u001b[0m         \u001b[0mmodule\u001b[0m \u001b[0;34m=\u001b[0m \u001b[0msys\u001b[0m\u001b[0;34m.\u001b[0m\u001b[0mmodules\u001b[0m\u001b[0;34m[\u001b[0m\u001b[0mmoduleOrReq\u001b[0m\u001b[0;34m]\u001b[0m\u001b[0;34m\u001b[0m\u001b[0;34m\u001b[0m\u001b[0m\n",
      "\u001b[0;32m~/miniconda3/envs/comcat/lib/python3.7/site-packages/pkg_resources/__init__.py\u001b[0m in \u001b[0;36mrequire\u001b[0;34m(self, *requirements)\u001b[0m\n\u001b[1;32m    907\u001b[0m         \u001b[0mincluded\u001b[0m\u001b[0;34m,\u001b[0m \u001b[0meven\u001b[0m \u001b[0;32mif\u001b[0m \u001b[0mthey\u001b[0m \u001b[0mwere\u001b[0m \u001b[0malready\u001b[0m \u001b[0mactivated\u001b[0m \u001b[0;32min\u001b[0m \u001b[0mthis\u001b[0m \u001b[0mworking\u001b[0m \u001b[0mset\u001b[0m\u001b[0;34m.\u001b[0m\u001b[0;34m\u001b[0m\u001b[0;34m\u001b[0m\u001b[0m\n\u001b[1;32m    908\u001b[0m         \"\"\"\n\u001b[0;32m--> 909\u001b[0;31m         \u001b[0mneeded\u001b[0m \u001b[0;34m=\u001b[0m \u001b[0mself\u001b[0m\u001b[0;34m.\u001b[0m\u001b[0mresolve\u001b[0m\u001b[0;34m(\u001b[0m\u001b[0mparse_requirements\u001b[0m\u001b[0;34m(\u001b[0m\u001b[0mrequirements\u001b[0m\u001b[0;34m)\u001b[0m\u001b[0;34m)\u001b[0m\u001b[0;34m\u001b[0m\u001b[0;34m\u001b[0m\u001b[0m\n\u001b[0m\u001b[1;32m    910\u001b[0m \u001b[0;34m\u001b[0m\u001b[0m\n\u001b[1;32m    911\u001b[0m         \u001b[0;32mfor\u001b[0m \u001b[0mdist\u001b[0m \u001b[0;32min\u001b[0m \u001b[0mneeded\u001b[0m\u001b[0;34m:\u001b[0m\u001b[0;34m\u001b[0m\u001b[0;34m\u001b[0m\u001b[0m\n",
      "\u001b[0;32m~/miniconda3/envs/comcat/lib/python3.7/site-packages/pkg_resources/__init__.py\u001b[0m in \u001b[0;36mresolve\u001b[0;34m(self, requirements, env, installer, replace_conflicting, extras)\u001b[0m\n\u001b[1;32m    798\u001b[0m                 \u001b[0;31m# Oops, the \"best\" so far conflicts with a dependency\u001b[0m\u001b[0;34m\u001b[0m\u001b[0;34m\u001b[0m\u001b[0;34m\u001b[0m\u001b[0m\n\u001b[1;32m    799\u001b[0m                 \u001b[0mdependent_req\u001b[0m \u001b[0;34m=\u001b[0m \u001b[0mrequired_by\u001b[0m\u001b[0;34m[\u001b[0m\u001b[0mreq\u001b[0m\u001b[0;34m]\u001b[0m\u001b[0;34m\u001b[0m\u001b[0;34m\u001b[0m\u001b[0m\n\u001b[0;32m--> 800\u001b[0;31m                 \u001b[0;32mraise\u001b[0m \u001b[0mVersionConflict\u001b[0m\u001b[0;34m(\u001b[0m\u001b[0mdist\u001b[0m\u001b[0;34m,\u001b[0m \u001b[0mreq\u001b[0m\u001b[0;34m)\u001b[0m\u001b[0;34m.\u001b[0m\u001b[0mwith_context\u001b[0m\u001b[0;34m(\u001b[0m\u001b[0mdependent_req\u001b[0m\u001b[0;34m)\u001b[0m\u001b[0;34m\u001b[0m\u001b[0;34m\u001b[0m\u001b[0m\n\u001b[0m\u001b[1;32m    801\u001b[0m \u001b[0;34m\u001b[0m\u001b[0m\n\u001b[1;32m    802\u001b[0m             \u001b[0;31m# push the new requirements onto the stack\u001b[0m\u001b[0;34m\u001b[0m\u001b[0;34m\u001b[0m\u001b[0;34m\u001b[0m\u001b[0m\n",
      "\u001b[0;31mContextualVersionConflict\u001b[0m: (numpy 1.21.0 (/home/jmanos/miniconda3/envs/comcat/lib/python3.7/site-packages), Requirement.parse('numpy>=1.21.6'), {'scatseisnet'})"
     ]
    }
   ],
   "source": [
    "import os\n",
    "import pickle\n",
    "\n",
    "import matplotlib.pyplot as plt\n",
    "import matplotlib.dates as mdates\n",
    "\n",
    "import numpy as np\n",
    "import obspy\n",
    "from obspy.clients.fdsn.client import Client \n",
    "import sklearn\n",
    "from sklearn.decomposition import FastICA\n",
    "\n",
    "from scatseisnet import ScatteringNetwork\n",
    "%config InlineBackend.figure_format = \"svg\""
   ]
  },
  {
   "cell_type": "code",
   "execution_count": null,
   "id": "1cfb486c",
   "metadata": {},
   "outputs": [],
   "source": []
  },
  {
   "cell_type": "code",
   "execution_count": null,
   "id": "151fa4f7",
   "metadata": {},
   "outputs": [],
   "source": []
  },
  {
   "cell_type": "code",
   "execution_count": null,
   "id": "0c488c9a",
   "metadata": {},
   "outputs": [],
   "source": []
  }
 ],
 "metadata": {
  "kernelspec": {
   "display_name": "libcomcat",
   "language": "python",
   "name": "libcomcat"
  },
  "language_info": {
   "codemirror_mode": {
    "name": "ipython",
    "version": 3
   },
   "file_extension": ".py",
   "mimetype": "text/x-python",
   "name": "python",
   "nbconvert_exporter": "python",
   "pygments_lexer": "ipython3",
   "version": "3.7.12"
  }
 },
 "nbformat": 4,
 "nbformat_minor": 5
}
