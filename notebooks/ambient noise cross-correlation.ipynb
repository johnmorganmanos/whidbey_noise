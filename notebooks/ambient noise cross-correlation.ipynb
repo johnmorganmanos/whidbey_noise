{
 "cells": [
  {
   "cell_type": "code",
   "execution_count": 3,
   "id": "1d526650",
   "metadata": {},
   "outputs": [],
   "source": [
    "from noisepy.seis import download, cross_correlate, stack, plotting_modules\n",
    "from noisepy.seis.asdfstore import ASDFRawDataStore, ASDFCCStore\n",
    "from noisepy.seis.datatypes import ConfigParameters\n",
    "import os\n",
    "import glob\n",
    "\n",
    "# path = \"/content/data\" # for use in Colab\n",
    "path = \"/data/data5/Converted/\" # for use locally\n",
    "# print(path)\n",
    "\n",
    "os.makedirs(path,exist_ok=True)\n",
    "raw_data_path = os.path.join(path, \"RAW_DATA\")\n",
    "cc_data_path = os.path.join(path, \"CCF\")\n",
    "stack_data_path = os.path.join(path, \"STACK\")\n",
    "config = ConfigParameters() # default config parameters which can be customized\n",
    "config.inc_hours = 12\n",
    "config.start_date = \"2019_02_01_00_00_00\"\n",
    "config.end_date = \"2019_02_02_00_00_00\""
   ]
  },
  {
   "cell_type": "code",
   "execution_count": null,
   "id": "6cc67559",
   "metadata": {},
   "outputs": [],
   "source": []
  }
 ],
 "metadata": {
  "kernelspec": {
   "display_name": "Python (noisepy)",
   "language": "python",
   "name": "noisepy"
  },
  "language_info": {
   "codemirror_mode": {
    "name": "ipython",
    "version": 3
   },
   "file_extension": ".py",
   "mimetype": "text/x-python",
   "name": "python",
   "nbconvert_exporter": "python",
   "pygments_lexer": "ipython3",
   "version": "3.8.16"
  }
 },
 "nbformat": 4,
 "nbformat_minor": 5
}
